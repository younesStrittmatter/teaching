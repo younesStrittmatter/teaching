{
 "cells": [
  {
   "metadata": {},
   "cell_type": "markdown",
   "source": [
    "# 3 Combinations\n",
    "\n",
    "Combinations are a way to count the numbers of ways to choose $k$ objects from a set of $n$ objects without regard to order.\n",
    "\n",
    "We can think about this in the following way: We have $n$ objects and order them in some way. Then we choose the first $k$ objects in the order. This intuition leads to the following rule:\n",
    "\n",
    "There are $n!$ ways to order $n$ objects. However, when we choose the first $k$ objects, the order of that subset doesn't matter. So, we have to divide out the number of ways to order the $k$ objects. This is $k!$. Similarly, the order of the remaining $n-k$ objects also doesn't matter, so we have to divide out $(n-k)!$."
   ],
   "id": "f44265d31421ca01"
  },
  {
   "metadata": {},
   "cell_type": "markdown",
   "source": [
    "Example: Who gets cake?\n",
    "\n",
    "There are 20 people at a party, but only 5 of those get cake. How many ways can we choose the 5 people to get cake?\n",
    "\n",
    "***Step 1:***\n",
    "We first form a line of 20 people. The first 5 people in the line get cake. How many ways can we order the 20 people? Since all 20 people are distinct, there are $20!$ ways to order them.\n",
    "\n",
    "***Step 2:***\n",
    "We choose the first 5 people. But they all get the same cake. For them it doesn't matter if they are at the first or the fifth position. So, we have to divide out the number of ways to order the 5 people. This is $5!$.\n",
    "\n",
    "***Step 3:***\n",
    "For the last 15 people, it also doesn't matter in which order they are: It doesn't matter if you are at spot 6 or 20 in the line, you don't get cake. So, we have to divide out the number of ways to order the 15 people. This is $15!$.\n",
    "\n",
    "So, the total number of ways to choose 5 people out of 20 that get cake is:\n",
    "\n",
    "$$\n",
    "\\frac{20!}{5!15!} = 15,504\n",
    "$$"
   ],
   "id": "f4c37f4b0d194eb6"
  },
  {
   "metadata": {},
   "cell_type": "markdown",
   "source": [
    "Choosing $k$ objects from $n$ objects{rule}\n",
    "\n",
    "The number of ways to choose $k$ objects from $n$ objects is:\n",
    "\n",
    "$$\n",
    "\\binom{n}{k} = \\frac{n!}{k!(n-k)!} (\\text{Binomial coefficient})\n",
    "$$\n"
   ],
   "id": "c19a453c3a669dd"
  }
 ],
 "metadata": {
  "kernelspec": {
   "display_name": "Python 3",
   "language": "python",
   "name": "python3"
  },
  "language_info": {
   "codemirror_mode": {
    "name": "ipython",
    "version": 2
   },
   "file_extension": ".py",
   "mimetype": "text/x-python",
   "name": "python",
   "nbconvert_exporter": "python",
   "pygments_lexer": "ipython2",
   "version": "2.7.6"
  }
 },
 "nbformat": 4,
 "nbformat_minor": 5
}
