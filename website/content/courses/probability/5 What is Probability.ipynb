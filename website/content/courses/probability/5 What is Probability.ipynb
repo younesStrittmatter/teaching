{
 "cells": [
  {
   "metadata": {},
   "cell_type": "markdown",
   "source": [
    "# 5 What is Probability\n",
    "\n",
    "In the previous sections, we have learned about permutations and combinations. Now, we will introduce the concept of probability."
   ],
   "id": "6ce2fb77b9d44a49"
  },
  {
   "metadata": {},
   "cell_type": "markdown",
   "source": [
    "Sample Space{definition}\n",
    "\n",
    "The ***sample space*** $\\Omega$ is the set of all possible outcomes of an experiment."
   ],
   "id": "bc9c3d5ec05716f2"
  },
  {
   "metadata": {},
   "cell_type": "markdown",
   "source": [
    "Examples:\n",
    "\n",
    "- The sample space of a single coin flip is $\\Omega = \\{H, T\\}$. (Heads, Tails)\n",
    "- The sample space of rolling a 6-sided die is $\\Omega = \\{1, 2, 3, 4, 5, 6\\}$.\n",
    "- The sample space of tossing a coin twice is $\\Omega = \\{HH, HT, TH, TT\\}$.\n",
    "- The sample space of tossing a coin until the first head appears is $\\Omega = \\{H, TH, TTH, TTTH, ...\\}$. (Infinite)\n",
    "- The sample space of tossing two indistinguishable coins is $\\Omega = \\{HH, HT, TT\\}$. (order doesn't matter)\n",
    "- The number of e-mails you receive in a day is $\\Omega = \\{0, 1, 2, 3, ...\\}$. (Infinite)\n",
    "\n",
    "$\\cdots$"
   ],
   "id": "c805a539323c2096"
  },
  {
   "metadata": {},
   "cell_type": "markdown",
   "source": [
    "Event{definition}\n",
    "\n",
    "An ***event*** $A$ is a subset of the sample space $\\Omega$. An event is a collection of outcomes of an experiment."
   ],
   "id": "f1dacda35010d204"
  },
  {
   "metadata": {},
   "cell_type": "markdown",
   "source": [
    "\n",
    "Examples:\n",
    "\n",
    "- The event of getting heads when flipping a coin is $A = \\{H\\}$.\n",
    "- The event of rolling an even number with a 6-sided die is $A = \\{2, 4, 6\\}$.\n",
    "- The event of rolling a number greater than 4 with a 6-sided die is $A = \\{5, 6\\}$.\n",
    "- The event of getting at least one head when flipping a coin twice is $A = \\{HH, HT, TH\\}$.\n",
    "- The event of getting heads appearing after at most two tails when flipping a coin is $A = \\{H, TH, TTH\\}$.\n",
    "- The event of getting two tails when flipping two indistinguishable coins is $A = \\{TT\\}$.\n",
    "- The event of receiving less than 20 e-mails in a day is $A = \\{x \\in \\mathbb{N} \\ | x < 20\\}$.\n",
    "\n",
    "$\\cdots$"
   ],
   "id": "e58bc3460751544"
  },
  {
   "metadata": {},
   "cell_type": "markdown",
   "source": "## Probability as Stochasticity",
   "id": "768a2acca64055f6"
  },
  {
   "metadata": {},
   "cell_type": "markdown",
   "source": [
    "Probability{definition}\n",
    "\n",
    "The ***probability*** od an Event $A$ is the likelihood of $A$ occurring. It is denoted by $P(A)$.\n",
    "\n",
    "We can think of the probability as a function that maps events to real numbers in the range $[0, 1]$.\n",
    "\n",
    "One way of thinking about probability is as the ratio of the number of favorable outcomes (events in $A$) to the total number of possible outcomes (sample space $\\Omega$):\n",
    "\n",
    "$$\n",
    "P(A) = \\lim_{n \\to \\infty} \\frac{n(A)}{n}\n",
    "$$\n",
    "\n",
    "Here, $n(A)$ is the number of times event $A$ occurs in n trials (the number of times the outcome of $n$ events \"lands\" in $A$).\n"
   ],
   "id": "80b4596b06ad62bc"
  },
  {
   "metadata": {},
   "cell_type": "markdown",
   "source": [
    "## Probability as Uncertainty\n",
    "\n",
    "Another way of thinking about probability is as a measure of uncertainty. For example, think about blindly rolling a die. Before looking at the outcome, we are uncertain about the outcome (although the outcome is already determined and the die has a specific number on top). The probability of each outcome is $\\frac{1}{6}$. In other words we are uncertain about the outcome. If we had to chose, we would say a specific number between 1 and 6, but we would be very uncertain about the outcome. No matter what number we would choose, we would be right only 1 out of 6 times. This is the uncertainty of the outcome. In this sense, probability is a language about expressing \"that we don't know\" or \"that we are uncertain about\" the outcome.\n",
    "\n",
    "***Note:*** This view of probability does not imply that there is any randomness in the \"world\". Even if the world is purely deterministic (the behaviour of the die is only determined by the laws of physics and we could in principle be able to predict the outcome), we can still use probability to express the fact, how uncertain we are about the outcome. For example, if we know the exact rotation and speed of the die before it hitting the table, we might be able to reduce uncertainty about the outcome and make better predictions which could in turn be expressed as changing the probability distribution of the outcomes."
   ],
   "id": "8c3e50f36f6eefd0"
  },
  {
   "metadata": {},
   "cell_type": "markdown",
   "source": [
    "Axioms of Probability{Axioms}\n",
    "\n",
    "There are three axioms of probability:\n",
    "\n",
    "1. $0 \\leq P(A) \\leq 1$ for any event $A$. (The probability of any event is between 0 and 1)\n",
    "2. $P(\\Omega) = 1$. (The probability of the sample space is 1)\n",
    "3. If $E, F$ are two mutually exclusive events (they cannot occur at the same time), then $P(E \\cup F) = P(E) + P(F)$. (The probability of the union of two mutually exclusive events is the sum of the probabilities of the events)"
   ],
   "id": "d6c6bd3d97e4801b"
  },
  {
   "metadata": {},
   "cell_type": "markdown",
   "source": [
    "Identity Rule of Probability{rule}\n",
    "\n",
    "The identity rule of probability states that the probability of an event $A$ occurring is 1 minus the probability of the event not occurring:\n",
    "\n",
    "$$\n",
    "P(A) = 1 - P(A^c)\n",
    "$$\n",
    "\n",
    "\n"
   ],
   "id": "84b2f6f9ac0db2d9"
  },
  {
   "metadata": {},
   "cell_type": "markdown",
   "source": [
    "Identity Rule of Probability{proof}\n",
    "\n",
    "The identity rule of probability can be proven using the axioms of probability:\n",
    "\n",
    "\n",
    "\\begin{align*}\n",
    "P(A) + P(A^c) &= P(A \\cup A^c) \\quad &\\text{(Axiom 3 since they are mutually exclusive/disjoint)} \\\\\n",
    "&= P(\\Omega) \\\\\n",
    "&= 1 \\quad &\\text{(Axiom 2)}\n",
    "\\end{align*}\n",
    "\n",
    "so:\n",
    "\n",
    "\\begin{align*}\n",
    "P(A) + P(A^c) = 1  \\implies P(A) = 1 - P(A^c)\n",
    "\\end{align*}\n"
   ],
   "id": "4f5d82e619c73091"
  },
  {
   "metadata": {},
   "cell_type": "markdown",
   "source": [
    "Rule for equally likely outcomes{rule}\n",
    "\n",
    "If there are $n$ outcomes in $\\Omega$ and each of them is equally likely. Then the probability of one of the outcomes is:\n",
    "\n",
    "$$\n",
    "P(A) = \\frac{1}{n} = \\frac{1}{|\\Omega|}\n",
    "$$\n",
    "\n",
    "(proof similar to the previous rule with Axiom 2 and 3)\n",
    "\n",
    "Directly from this rule, we can conclude:\n",
    "\n",
    "$$\n",
    "P(A) = \\frac{|A|}{|\\Omega|}\n",
    "$$\n",
    "\n",
    "(if the outcomes are equally likely)"
   ],
   "id": "dfe8207e8159081d"
  },
  {
   "metadata": {},
   "cell_type": "code",
   "outputs": [],
   "execution_count": null,
   "source": "# TODO: Add many examples of various solution spaces and event spaces and calculate the probabilities",
   "id": "adbfbe1a91875d99"
  }
 ],
 "metadata": {
  "kernelspec": {
   "display_name": "Python 3",
   "language": "python",
   "name": "python3"
  },
  "language_info": {
   "codemirror_mode": {
    "name": "ipython",
    "version": 2
   },
   "file_extension": ".py",
   "mimetype": "text/x-python",
   "name": "python",
   "nbconvert_exporter": "python",
   "pygments_lexer": "ipython2",
   "version": "2.7.6"
  }
 },
 "nbformat": 4,
 "nbformat_minor": 5
}
