{
 "cells": [
  {
   "metadata": {},
   "cell_type": "markdown",
   "source": [
    "# 4 Sorting\n",
    "\n",
    "How many ways can we sort 5 indistinct balls into 3 buckets?\n",
    "\n",
    "We can think about this in the following way: Instead of \"buckets\" we can use dividers. But for 3 buckets we only need 2 dividers:\n",
    "\n",
    "![dividers](https://younesstrittmatter.github.io/teaching/_static/courses/probability/4/dividers.png)\n",
    "\n",
    "But then we can think about sorting 5 indistinct balls into 3 buckets as \"ordering 7 objects (5 balls and 2 dividers)\". We already know how to calculate this (see [Number of permutations of partially non-distinct objects](3%20Combinations.ipynb#Number-of-permutations-of-partially-non-distinct-objects{rule})): The number of ways to arrange 5 balls and 2 dividers is:\n",
    "\n",
    "$$\n",
    "\\frac{7!}{5!2!} = 21\n",
    "$$\n"
   ],
   "id": "a4d0c46573444a37"
  },
  {
   "metadata": {},
   "cell_type": "markdown",
   "source": [
    "Sorting $k$ indistinct objects into $n$ buckets{rule}\n",
    "\n",
    "The number of ways to sort $k$ indistinct objects into $n$ buckets is:\n",
    "\n",
    "\n",
    "$$\n",
    "\\frac{(k+n-1)!}{k!(n-1)!} = \\binom{k+n-1}{k}\n",
    "$$\n",
    "\n"
   ],
   "id": "c00b6d31b2108661"
  }
 ],
 "metadata": {
  "kernelspec": {
   "display_name": "Python 3",
   "language": "python",
   "name": "python3"
  },
  "language_info": {
   "codemirror_mode": {
    "name": "ipython",
    "version": 2
   },
   "file_extension": ".py",
   "mimetype": "text/x-python",
   "name": "python",
   "nbconvert_exporter": "python",
   "pygments_lexer": "ipython2",
   "version": "2.7.6"
  }
 },
 "nbformat": 4,
 "nbformat_minor": 5
}
