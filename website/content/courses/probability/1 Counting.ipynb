{
 "cells": [
  {
   "metadata": {},
   "cell_type": "markdown",
   "source": [
    "# 1 Counting\n",
    "> How many possible outcomes are there?\n",
    "\n",
    "## Examples\n",
    "\n",
    "Given an experiment, counting is the process of determining how many possible outcomes there are."
   ],
   "id": "b85c31de6fe80739"
  },
  {
   "metadata": {},
   "cell_type": "markdown",
   "source": [
    "***Example: Dice***{example}\n",
    "\n",
    "How many possible outcomes are there when rolling a 6-sided die?\n",
    "\n"
   ],
   "id": "149037f92cc5383c"
  },
  {
   "metadata": {},
   "cell_type": "markdown",
   "source": [
    "Solution{solution}\n",
    "\n",
    "There are 6 possible outcomes: {1, 2, 3, 4, 5, 6}."
   ],
   "id": "88ee6ff20c592ce0"
  },
  {
   "metadata": {},
   "cell_type": "markdown",
   "source": [
    "***Example: Coins***{example}\n",
    "\n",
    "How many possible outcomes are there when flipping a coin?"
   ],
   "id": "5238186b5de5c311"
  },
  {
   "metadata": {},
   "cell_type": "markdown",
   "source": [
    "Solution{solution}\n",
    "\n",
    "There are 2 possible outcomes: {heads, tails}."
   ],
   "id": "cdd57b877b59c28"
  },
  {
   "metadata": {},
   "cell_type": "markdown",
   "source": [
    "***Example: Two Coins***{example}\n",
    "\n",
    "How many possible outcomes are there when flipping two coins?"
   ],
   "id": "ef5d8b8db20d4865"
  },
  {
   "metadata": {},
   "cell_type": "markdown",
   "source": [
    "Solution{solution}\n",
    "\n",
    "There are 4 possible outcomes: {heads, heads}, {heads, tails}, {tails, heads}, {tails, tails}."
   ],
   "id": "bda7bea4fbe95ec6"
  },
  {
   "metadata": {},
   "cell_type": "markdown",
   "source": [
    "## Notation\n",
    "\n",
    "We will use the following notation for counting:\n",
    "\n",
    "Given the possible outcomes of an experiment are a set $A$, we will denote the number of possible outcomes as $n_{a} = |A|$, where $|A|$ is the cardinality of the set $A$.\n",
    "\n",
    "For example, if the experiment is rolling a die, then the possible outcomes are $A = \\{1, 2, 3, 4, 5, 6\\}$ and the number of possible outcomes is $n_{a} = |A| = 6$."
   ],
   "id": "45d6935308a61fd5"
  },
  {
   "metadata": {},
   "cell_type": "markdown",
   "source": [
    "## Step Rule of Counting (aka Product Rule of Counting)\n",
    "\n",
    "If an experiment $E$ consists of two independent steps with the outcomes $A$ and $B$, then the number of possible outcomes is the product of the number of possible outcomes of each step:\n",
    "\n",
    "$|E| = |A| \\times |B|$\n",
    "\n"
   ],
   "id": "c9a948770f96147c"
  },
  {
   "metadata": {},
   "cell_type": "markdown",
   "source": [
    "Example: Number of Different Images\n",
    "\n",
    "![pixels](https://younesstrittmatter.github.io/teaching/_static/courses/probabilit/1/pixels.png)\n",
    "\n",
    "How many different images are possible with a 2x2 pixel image, where one pixel can have 17 million different colors?\n"
   ],
   "id": "84d275801e0758dd"
  },
  {
   "metadata": {},
   "cell_type": "code",
   "outputs": [],
   "execution_count": null,
   "source": "",
   "id": "dcc145c14085b76"
  }
 ],
 "metadata": {
  "kernelspec": {
   "display_name": "Python 3",
   "language": "python",
   "name": "python3"
  },
  "language_info": {
   "codemirror_mode": {
    "name": "ipython",
    "version": 2
   },
   "file_extension": ".py",
   "mimetype": "text/x-python",
   "name": "python",
   "nbconvert_exporter": "python",
   "pygments_lexer": "ipython2",
   "version": "2.7.6"
  }
 },
 "nbformat": 4,
 "nbformat_minor": 5
}
