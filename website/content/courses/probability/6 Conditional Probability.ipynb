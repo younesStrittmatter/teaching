{
 "cells": [
  {
   "metadata": {},
   "cell_type": "markdown",
   "source": [
    "# 6 Conditional Probability\n",
    "\n",
    "Conditional probability is the probability of an event given that another event has already occurred."
   ],
   "id": "f5ae3e8c7c4497fb"
  },
  {
   "metadata": {},
   "cell_type": "markdown",
   "source": [
    "Example{example}\n",
    "\n",
    "Given two dice rolls, we want to calculate the probability of the of the sum of those rolls being 4."
   ],
   "id": "3ba9cc249ed2bf6b"
  },
  {
   "metadata": {},
   "cell_type": "markdown",
   "source": [
    "Solution{solution}\n",
    "\n",
    "The solution space of this problem is the set of all possible outcomes of two dice rolls:\n",
    "\n",
    "$\\Omega = \\{(1,1), (1,2), \\dots, (6,6)\\}$\n",
    "\n",
    "With\n",
    "\n",
    "$|\\Omega| = 6 * 6 = 36$\n",
    "\n",
    "The event space of the sum of the rolls being 4 is the set of all outcomes where the sum of the rolls is 4:\n",
    "\n",
    "$A = \\{(1,3), (2,2), (3,1)\\}$\n",
    "\n",
    "With\n",
    "\n",
    "$|A| = 3 $\n",
    "\n",
    "Thus, the probability of the sum of the rolls being 4 is $\\frac{|A|}{|\\Omega|} = \\frac{3}{36} = \\frac{1}{12}$."
   ],
   "id": "4ac7660395d7267e"
  },
  {
   "metadata": {},
   "cell_type": "markdown",
   "source": "Now, let us consider we could look at the first die roll before the second die roll. If you would have gambled on the sum of the rolls being 4, what number would you want to see on the first die roll? Would you rather see 1, 2, 3, 4, 5, or 6?",
   "id": "1e9146878969655"
  },
  {
   "metadata": {},
   "cell_type": "markdown",
   "source": [
    "Solution{solution}\n",
    "\n",
    "You wouldn't want to see 4, 5, 6 since then the second roll doesn't matter. The sum would always be greater than 4. Let's consider the other cases:\n",
    "\n",
    "- If you see a 1, now the solution space is reduced to $\\Omega = \\{(1,1), (1,2), (1,3), (1,4), (1,5), (1,6)\\}$ and the event space is reduced to $A = \\{(1,3)\\}$. The probability of the sum of the rolls being 4 is $\\frac{|A|}{|\\Omega|} = \\frac{1}{6}$.\n",
    "- If you see a 2, now the solution space is reduced to $\\Omega = \\{(2,1), (2,2), (2,3), (2,4), (2,5), (2,6)\\}$ and the event space is reduced to $A = \\{(2,2)\\}$. The probability of the sum of the rolls being 4 is $\\frac{1}{6}$.\n",
    "- If you see a 3, now the solution space is reduced to $\\Omega = \\{(3,1), (3,2), (3,3), (3,4), (3,5), (3,6)\\}$ and the event space is reduced to $A = \\{(3,1)\\}$. The probability of the sum of the rolls being 4 is $\\frac{1}{6}$.\n",
    "\n",
    "***Note:*** After seeing a 1, 2, or 3 on the first die roll, the probability of the sum of the rolls being 4 is always $\\frac{1}{6}$. So you are equally happy to see a 1, 2, or 3 on the first die roll."
   ],
   "id": "7bf45e9f21465fba"
  },
  {
   "metadata": {},
   "cell_type": "markdown",
   "source": [
    "Conditional Probability{definition}\n",
    "\n",
    "The conditional probability is defined as the probability of an event $A$ happening, given that another event $B$ has already occurred:\n",
    "\n",
    "We write the conditional probability of $A$ given $B$ as $P(A|B)$.\n",
    "\n",
    "We mean $P(A, \\text{given that } B \\text{ has occurred})$.\n",
    "\n",
    "The sample space is now all possible outcomes that are consistent with $B$ (i.e., $\\Omega \\cap B = B$).\n",
    "\n",
    "The event space is now all possible outcomes that are consistent with $A$ and $B$ (i.e., $A \\cap B$).\n",
    "\n",
    "The conditional probability is then:\n",
    "\n",
    "$$\n",
    "P(A|B) = \\frac{|AB|}{|B|}\n",
    "$$\n",
    "\n",
    "**Note:** Here, as a shorthand for $A \\cap B$, we often write $AB$."
   ],
   "id": "8142dc06a7cb3b1e"
  },
  {
   "metadata": {},
   "cell_type": "markdown",
   "source": [
    "Chain Rule of Probability{rule}\n",
    "\n",
    "From the definition of conditional probability, we can directly derive the chain rule of probability:\n",
    "\n",
    "$$\n",
    "P(AB) = P(A|B)P(B)\n",
    "$$"
   ],
   "id": "c54840148fc6b896"
  },
  {
   "metadata": {},
   "cell_type": "markdown",
   "source": [
    "Law of Probability{rule}\n",
    "\n",
    "The law of probability states  that the probability of an event $A$ happening is the sum of the probabilities of $AB$ happening plus the probability of $A B^{c}$ happening:\n",
    "\n",
    "$$\n",
    "P(A) = P(AB) + P(A B^c)\n",
    "$$\n",
    "\n",
    "This can be rewritten as:\n",
    "\n",
    "$$\n",
    "P(A) = P(A|B)P(B) + P(A|B^c)P(B^c)\n",
    "$$\n",
    "\n",
    "In other words, the probability of $A$ happening is the probability of $A$ given that $B$ has occurred times the probability of $B$ happening plus the probability of $A$ given that $B$ has not occurred times the probability of $B$ not happening."
   ],
   "id": "9eeec517f554373c"
  },
  {
   "metadata": {},
   "cell_type": "markdown",
   "source": [
    "Example{example}\n",
    "\n",
    "You have a bacteria in your gut which is causing a disease. $10\\%$ of these bacteria have a mutation that makes them resistant to antibiotics. After taking half a course of antibiotics, the probability of the resistant bacteria having survived is $20\\%$. The probability of the non-resistant bacteria having survived is $1\\%$. What is the probability of a bacteria having survived?"
   ],
   "id": "c591472c4c95cf0c"
  },
  {
   "metadata": {},
   "cell_type": "markdown",
   "source": [
    "Solution{solution}\n",
    "\n",
    "Let $A$ be the event that a bacteria has survived and $B$ the event that the bacteria is resistant.\n",
    "\n",
    "\\begin{align*}\n",
    "P(A) &= P(A|B)P(B) + P(A|B^c)P(B^c) \\\\\n",
    "&= .2 * .1 + .01 * .9 \\\\\n",
    "& = .029 \\\\\n",
    "\\end{align*}"
   ],
   "id": "94211b538756ff15"
  },
  {
   "metadata": {},
   "cell_type": "markdown",
   "source": [
    "Example{example}\n",
    "\n",
    "What is the probability of a bacteria being resistant given that it has survived?"
   ],
   "id": "b944f89e7d4028ac"
  },
  {
   "metadata": {},
   "cell_type": "markdown",
   "source": [
    "Solution{solution}\n",
    "\n",
    "$$\n",
    "P(B|A) = P(AB) / P(A) = P(A|B)P(B) / P(A) = .2 * .1 / .029 = .6897\n",
    "$$"
   ],
   "id": "20a2fa7b5d4509c3"
  },
  {
   "metadata": {},
   "cell_type": "markdown",
   "source": [
    "Bayes' Theorem{rule}\n",
    "\n",
    "Bayes' theorem is a fundamental theorem in probability theory that describes how conditional probabilities can be reversed:\n",
    "\n",
    "$$\n",
    "P(B|A) = \\frac{P(A|B)P(B)}{P(A)}\n",
    "$$\n",
    "\n",
    "(Proof: this follows directly from the definition of conditional probability and the chain rule of probability)\n",
    "\n",
    "We can also replace $P(A)$ with the law of probability:\n",
    "\n",
    "$$\n",
    "P(B|A) = \\frac{P(A|B)P(B)}{P(A|B)P(B) + P(A|B^c)P(B^c)}\n",
    "$$\n"
   ],
   "id": "49853be3c8f50445"
  },
  {
   "metadata": {},
   "cell_type": "markdown",
   "source": [
    "Example{example}\n",
    "\n",
    "A test is $98\\%$ accurate at detecting a disease (SARS). However, it has a false positive rate of $1\\%$. The probability of a person having SARS is $0.5\\%$.\n",
    "\n",
    "You test positive for SARS. What is the probability that you actually have SARS?"
   ],
   "id": "9f4aa65740c0a1e4"
  },
  {
   "metadata": {},
   "cell_type": "markdown",
   "source": [
    "Solution{solution}\n",
    "\n",
    "Let $T$ be the event that you test positive and $S$ the event that you have SARS.\n",
    "\n",
    "We want to calculate $P(S|T)$. We can use Bayes' theorem:\n",
    "\n",
    "$$\n",
    "P(S|T) = \\frac{P(T|S)P(S)}{P(T)}\n",
    "$$\n",
    "\n",
    "We already have $P(T|S) = .98$ and $P(S) = .005$. We need to calculate $P(T)$. We can use the law of probability:\n",
    "\n",
    "$$\n",
    "P(T) = P(T|S)P(S) + P(T|S^c)P(S^c) = .98 * .005 + .01 * .995 = .0149\n",
    "$$\n",
    "\n",
    "Now we can calculate $P(S|T)$:\n",
    "\n",
    "$$\n",
    "P(S|T) = \\frac{.98 * .005}{.0149} = .3295\n",
    "$$\n",
    "\n",
    "So the probability that you actually have SARS given that you tested positive is $32.95\\%$. This is a lot lower thatn the $98\\%$ accuracy of the test and stems from the low base rate of the disease."
   ],
   "id": "394b7c4401b7903a"
  },
  {
   "metadata": {},
   "cell_type": "markdown",
   "source": [
    "Example{example}\n",
    "\n",
    "Since you are not sure if you have SARS or not even after the test, you decide to take a second test with the same accuracy and false positive rate. You test positive again. What is the probability that you actually have SARS?"
   ],
   "id": "be0326f32c2c287a"
  },
  {
   "metadata": {},
   "cell_type": "markdown",
   "source": [
    "Solution{solution}\n",
    "\n",
    "Let $T_2$ be the event that you test positive in the second test.\n",
    "\n",
    "We want to calculate $P(S|T_1, T_2)$. We can use Bayes' theorem:\n",
    "\n",
    "$$\n",
    "P(S|T_1, T_2) = \\frac{P(T_1, T_2|S)P(S)}{P(T_1, T_2)}\n",
    "$$\n",
    "\n",
    "We already have $P(T_1, T_2|S) = .98 * .98$ and $P(S) = .005$. We need to calculate $P(T_1, T_2)$. We can use the law of probability:\n",
    "\n",
    "$$\n",
    "P(T_1, T_2) = P(T_1, T_2|S)P(S) + P(T_1, T_2|S^c)P(S^c) = .98 * .98 * .005 + .01 * .01 * .995 = .0049015 \\approx .005\n",
    "$$\n",
    "\n",
    "Now we can calculate $P(S|T_1, T_2)$:\n",
    "\n",
    "$$\n",
    "P(S|T_1, T_2) = \\frac{.98 * .98 * .005}{.005} \\approx .96\n",
    "$$\n",
    "\n",
    "So the probability that you actually have SARS given that you tested positive twice is $96\\%$. This is a lot higher than the probability after only doing one test."
   ],
   "id": "e90e5f04a261312"
  },
  {
   "metadata": {},
   "cell_type": "code",
   "outputs": [],
   "execution_count": null,
   "source": "",
   "id": "1ec7b67c1dd6b00b"
  }
 ],
 "metadata": {
  "kernelspec": {
   "display_name": "Python 3",
   "language": "python",
   "name": "python3"
  },
  "language_info": {
   "codemirror_mode": {
    "name": "ipython",
    "version": 2
   },
   "file_extension": ".py",
   "mimetype": "text/x-python",
   "name": "python",
   "nbconvert_exporter": "python",
   "pygments_lexer": "ipython2",
   "version": "2.7.6"
  }
 },
 "nbformat": 4,
 "nbformat_minor": 5
}
