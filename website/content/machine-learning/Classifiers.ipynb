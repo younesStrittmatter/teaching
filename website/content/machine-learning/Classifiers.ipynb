{
 "cells": [
  {
   "metadata": {},
   "cell_type": "markdown",
   "source": [
    "# 1 Classifiers \n",
    "> *Or: What is a chair?*\n",
    "\n",
    "![title](https://younesstrittmatter.github.io/teaching/_static/machine-learning/classifiers/title.png)"
   ],
   "id": "98ba3ec79e9b1307"
  },
  {
   "metadata": {},
   "cell_type": "markdown",
   "source": [
    "## Motivation\n",
    "\n",
    "### Aristotelian Essentialism\n",
    "\n",
    "Let's say we want to classify things in chairs and non-chairs. Wouldn't it be helpful to first answer the question: What is a chair? Aristotelian essentialism is the philosophical view  that entities possess an intrinsic essence that defines what they are. According to Aristotle, every object or being has a set of necessary properties that make it what it is and distinguish it from what it is not.\n",
    "\n",
    "![essentialism](https://younesstrittmatter.github.io/teaching/_static/machine-learning/classifiers/essentialism.png)\n",
    "\n",
    "So, let's define a chair this way:\n",
    "\n",
    "A chair is ***has four legs*** and ***one can sit on it***.\n",
    "\n",
    "Is this definition helpful? "
   ],
   "id": "d4a8bc618cd50108"
  },
  {
   "metadata": {},
   "cell_type": "markdown",
   "source": [
    "<style>\n",
    "  .scroll-container {\n",
    "    display: flex;\n",
    "    overflow-x: auto;\n",
    "    white-space: nowrap;\n",
    "    scroll-snap-type: x mandatory;\n",
    "    gap: 10px;\n",
    "    padding: 10px;\n",
    "    border: 1px solid #ddd;\n",
    "  }\n",
    "\n",
    "  .scroll-container img {\n",
    "    height: 300px; /* Adjust size as needed */\n",
    "    scroll-snap-align: center;\n",
    "    border-radius: 8px;\n",
    "  }\n",
    "</style>\n",
    "\n",
    "<div class=\"scroll-container\">\n",
    "  <img src=\"https://younesstrittmatter.github.io/teaching/_static/machine-learning/classifiers/chairs/1.png\" alt=\"Image 1\">\n",
    "  <img src=\"https://younesstrittmatter.github.io/teaching/_static/machine-learning/classifiers/chairs/2.jpg\" alt=\"Image 1\">\n",
    "  <img src=\"https://younesstrittmatter.github.io/teaching/_static/machine-learning/classifiers/chairs/3.jpg\" alt=\"Image 1\">\n",
    "  <img src=\"https://younesstrittmatter.github.io/teaching/_static/machine-learning/classifiers/chairs/4.jpg\" alt=\"Image 1\">\n",
    "  <img src=\"https://younesstrittmatter.github.io/teaching/_static/machine-learning/classifiers/horse.jpg\" alt=\"Image 1\">\n",
    "</div>"
   ],
   "id": "6e9e92253cf813d"
  },
  {
   "metadata": {},
   "cell_type": "markdown",
   "source": [
    "A horse ***has four legs*** and ***one can sit on it*** but a horse is not a chair!\n",
    "\n",
    "Can we revise our definition?\n",
    "\n",
    "A chair is ***nonliving***, ***has four legs***, and ***one can sit on it***."
   ],
   "id": "7aba6b7b83a33cc2"
  },
  {
   "metadata": {},
   "cell_type": "markdown",
   "source": [
    "<div class=\"scroll-container\">\n",
    "  <img src=\"https://younesstrittmatter.github.io/teaching/_static/machine-learning/classifiers/chairs/5.png\" alt=\"Image 1\">\n",
    "  <img src=\"https://younesstrittmatter.github.io/teaching/_static/machine-learning/classifiers/chairs/6.png\" alt=\"Image 1\">\n",
    "  <img src=\"https://younesstrittmatter.github.io/teaching/_static/machine-learning/classifiers/chairs/7.png\" alt=\"Image 1\">\n",
    "  <img src=\"https://younesstrittmatter.github.io/teaching/_static/machine-learning/classifiers/chairs/5-legged-chair.png\" alt=\"Image 1\">\n",
    "</div>"
   ],
   "id": "b894e8dc47bf29e4"
  },
  {
   "metadata": {},
   "cell_type": "markdown",
   "source": [
    "Some chairs have four legs, some have five. Some have three and there are even chairs without legs. The number of legs doesn't seem to be *essential* to the definition of a chair.\n",
    "\n",
    "![weird-chairs](https://younesstrittmatter.github.io/teaching/_static/machine-learning/classifiers/weird-chairs.png)"
   ],
   "id": "f7075c066af12149"
  },
  {
   "metadata": {},
   "cell_type": "code",
   "outputs": [],
   "execution_count": null,
   "source": "",
   "id": "7f4d0b4e97c1034f"
  }
 ],
 "metadata": {
  "kernelspec": {
   "display_name": "Python 3",
   "language": "python",
   "name": "python3"
  },
  "language_info": {
   "codemirror_mode": {
    "name": "ipython",
    "version": 2
   },
   "file_extension": ".py",
   "mimetype": "text/x-python",
   "name": "python",
   "nbconvert_exporter": "python",
   "pygments_lexer": "ipython2",
   "version": "2.7.6"
  }
 },
 "nbformat": 4,
 "nbformat_minor": 5
}
