{
 "cells": [
  {
   "metadata": {},
   "cell_type": "markdown",
   "source": [
    "# 1 Classifiers \n",
    "> *Or: What is a chair?*\n",
    "\n",
    "![title](https://younesstrittmatter.github.io/teaching/_static/machine-learning/classifiers/title.png)"
   ],
   "id": "98ba3ec79e9b1307"
  },
  {
   "metadata": {},
   "cell_type": "markdown",
   "source": [
    "## Motivation\n",
    "\n",
    "### Aristotelian Essentialism\n",
    "\n",
    "Let's say we want to classify things in chairs and non-chairs. Wouldn't it be helpful to first answer the question: What is a chair? Aristotelian essentialism is the philosophical view  that entities possess an intrinsic essence that defines what they are. According to Aristotle, every object or being has a set of necessary properties that make it what it is and distinguish it from what it is not.\n",
    "\n",
    "![essentialism](https://younesstrittmatter.github.io/teaching/_static/machine-learning/classifiers/essentialism.png)\n",
    "\n",
    "So, let's define a chair this way:\n",
    "\n",
    "A chair is a ***has four legs*** and ***one can sit on it***."
   ],
   "id": "d4a8bc618cd50108"
  },
  {
   "metadata": {},
   "cell_type": "markdown",
   "source": [
    "<style>\n",
    "  .scroll-container {\n",
    "    display: flex;\n",
    "    overflow-x: auto;\n",
    "    white-space: nowrap;\n",
    "    scroll-snap-type: x mandatory;\n",
    "    gap: 10px;\n",
    "    padding: 10px;\n",
    "    border: 1px solid #ddd;\n",
    "  }\n",
    "\n",
    "  .scroll-container img {\n",
    "    height: 300px; /* Adjust size as needed */\n",
    "    scroll-snap-align: center;\n",
    "    border-radius: 8px;\n",
    "  }\n",
    "</style>\n",
    "\n",
    "<div class=\"scroll-container\">\n",
    "  <img src=\"https://younesstrittmatter.github.io/teaching/_static/machine-learning/classifiers/chairs/1.png\" alt=\"Image 1\">\n",
    "  <img src=\"https://younesstrittmatter.github.io/teaching/_static/machine-learning/classifiers/chairs/2.jpg\" alt=\"Image 1\">\n",
    "  <img src=\"https://younesstrittmatter.github.io/teaching/_static/machine-learning/classifiers/chairs/3.jpg\" alt=\"Image 1\">\n",
    "  <img src=\"https://younesstrittmatter.github.io/teaching/_static/machine-learning/classifiers/chairs/4.jpg\" alt=\"Image 1\">\n",
    "</div>\n"
   ],
   "id": "6e9e92253cf813d"
  },
  {
   "metadata": {},
   "cell_type": "code",
   "outputs": [],
   "execution_count": null,
   "source": "",
   "id": "a6cb17d812938161"
  }
 ],
 "metadata": {
  "kernelspec": {
   "display_name": "Python 3",
   "language": "python",
   "name": "python3"
  },
  "language_info": {
   "codemirror_mode": {
    "name": "ipython",
    "version": 2
   },
   "file_extension": ".py",
   "mimetype": "text/x-python",
   "name": "python",
   "nbconvert_exporter": "python",
   "pygments_lexer": "ipython2",
   "version": "2.7.6"
  }
 },
 "nbformat": 4,
 "nbformat_minor": 5
}
