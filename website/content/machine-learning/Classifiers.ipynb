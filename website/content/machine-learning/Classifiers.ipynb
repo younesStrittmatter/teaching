{
 "cells": [
  {
   "metadata": {},
   "cell_type": "markdown",
   "source": [
    "# 1 Classifiers \n",
    "> *Or: What is a chair?*\n",
    "\n",
    "![title](https://younesstrittmatter.github.io/teaching/_static/machine-learning/classifiers/title.png)"
   ],
   "id": "98ba3ec79e9b1307"
  },
  {
   "metadata": {},
   "cell_type": "code",
   "outputs": [],
   "execution_count": null,
   "source": "",
   "id": "a6cb17d812938161"
  }
 ],
 "metadata": {
  "kernelspec": {
   "display_name": "Python 3",
   "language": "python",
   "name": "python3"
  },
  "language_info": {
   "codemirror_mode": {
    "name": "ipython",
    "version": 2
   },
   "file_extension": ".py",
   "mimetype": "text/x-python",
   "name": "python",
   "nbconvert_exporter": "python",
   "pygments_lexer": "ipython2",
   "version": "2.7.6"
  }
 },
 "nbformat": 4,
 "nbformat_minor": 5
}
