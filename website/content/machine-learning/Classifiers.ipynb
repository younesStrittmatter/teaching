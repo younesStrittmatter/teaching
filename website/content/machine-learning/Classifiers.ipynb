{
 "cells": [
  {
   "metadata": {},
   "cell_type": "markdown",
   "source": [
    "# 1 Classifiers \n",
    "> *Or: What is a chair?*\n",
    "\n",
    "![title](https://younesstrittmatter.github.io/teaching/_static/machine-learning/classifiers/title.png)"
   ],
   "id": "98ba3ec79e9b1307"
  },
  {
   "metadata": {},
   "cell_type": "markdown",
   "source": [
    "## Motivation\n",
    "\n",
    "### Aristotelian Essentialism\n",
    "\n",
    "Let's say we want to classify things in chairs and non-chairs. Wouldn't it be helpful to first answer the question: What is a chair? Aristotelian essentialism is the philosophical view  that entities possess an intrinsic essence that defines what they are. According to Aristotle, every object or being has a set of necessary properties that make it what it is and distinguish it from what it is not.\n",
    "\n",
    "![essentialism](https://younesstrittmatter.github.io/teaching/_static/machine-learning/classifiers/essentialism.png)\n",
    "\n",
    "So, let's define a chair this way:\n",
    "\n",
    "A chair is ***has four legs*** and ***one can sit on it***.\n",
    "\n",
    "Is this definition helpful? "
   ],
   "id": "d4a8bc618cd50108"
  },
  {
   "metadata": {},
   "cell_type": "markdown",
   "source": [
    "<style>\n",
    "  .scroll-container {\n",
    "    display: flex;\n",
    "    overflow-x: auto;\n",
    "    white-space: nowrap;\n",
    "    scroll-snap-type: x mandatory;\n",
    "    gap: 10px;\n",
    "    padding: 10px;\n",
    "    border: 1px solid #ddd;\n",
    "  }\n",
    "\n",
    "  .scroll-container img {\n",
    "    height: 300px; /* Adjust size as needed */\n",
    "    scroll-snap-align: center;\n",
    "    border-radius: 8px;\n",
    "  }\n",
    "</style>\n",
    "\n",
    "<div class=\"scroll-container\">\n",
    "  <img src=\"https://younesstrittmatter.github.io/teaching/_static/machine-learning/classifiers/chairs/1.png\" alt=\"Image 1\">\n",
    "  <img src=\"https://younesstrittmatter.github.io/teaching/_static/machine-learning/classifiers/chairs/2.jpg\" alt=\"Image 1\">\n",
    "  <img src=\"https://younesstrittmatter.github.io/teaching/_static/machine-learning/classifiers/chairs/3.jpg\" alt=\"Image 1\">\n",
    "  <img src=\"https://younesstrittmatter.github.io/teaching/_static/machine-learning/classifiers/chairs/4.jpg\" alt=\"Image 1\">\n",
    "  <img src=\"https://younesstrittmatter.github.io/teaching/_static/machine-learning/classifiers/horse.jpg\" alt=\"Image 1\">\n",
    "</div>"
   ],
   "id": "6e9e92253cf813d"
  },
  {
   "metadata": {},
   "cell_type": "markdown",
   "source": [
    "A horse ***has four legs*** and ***one can sit on it*** but a horse is not a chair!\n",
    "\n",
    "Can we revise our definition?\n",
    "\n",
    "A chair is ***nonliving***, ***has four legs***, and ***one can sit on it***."
   ],
   "id": "7aba6b7b83a33cc2"
  },
  {
   "metadata": {},
   "cell_type": "markdown",
   "source": [
    "<div class=\"scroll-container\">\n",
    "  <img src=\"https://younesstrittmatter.github.io/teaching/_static/machine-learning/classifiers/chairs/5.png\" alt=\"Image 1\">\n",
    "  <img src=\"https://younesstrittmatter.github.io/teaching/_static/machine-learning/classifiers/chairs/6.png\" alt=\"Image 1\">\n",
    "  <img src=\"https://younesstrittmatter.github.io/teaching/_static/machine-learning/classifiers/chairs/7.png\" alt=\"Image 1\">\n",
    "  <img src=\"https://younesstrittmatter.github.io/teaching/_static/machine-learning/classifiers/chairs/5-legged-chair.png\" alt=\"Image 1\">\n",
    "</div>"
   ],
   "id": "b894e8dc47bf29e4"
  },
  {
   "metadata": {},
   "cell_type": "markdown",
   "source": [
    "Some chairs have four legs, some have five. Some have three and there are even chairs without legs. The number of legs doesn't seem to be *essential* to the definition of a chair.\n",
    "\n",
    "![weird-chairs](https://younesstrittmatter.github.io/teaching/_static/machine-learning/classifiers/weird-chairs.png)"
   ],
   "id": "f7075c066af12149"
  },
  {
   "metadata": {},
   "cell_type": "markdown",
   "source": [
    "### Classification is Effortless!\n",
    "\n",
    "There appears to be a puzzle here. Have you ever mistaken a horse for a chair? If you encountered someone who made such an error, even just once, what advice would you give them?\n",
    "\n",
    "![mistake-meme](https://younesstrittmatter.github.io/teaching/_static/machine-learning/classifiers/trivial-classification.png)\n",
    "\n",
    "A neurologist would probably diagnose such a person with [visual object agnosia](https://www.sciencedirect.com/topics/psychology/object-agnosia). People seem to classify objects effortless. Remarkably, this ability develops naturally—after all, when was the last time you attended chair-class?\n",
    "\n",
    "\n",
    "![chair-class](https://younesstrittmatter.github.io/teaching/_static/machine-learning/classifiers/chair-class.png)"
   ],
   "id": "e32456e0b71750a7"
  },
  {
   "metadata": {},
   "cell_type": "markdown",
   "source": [
    "### Machine Learning in a nutshell\n",
    "\n",
    "Directly writing a classifier function seems helpless:\n",
    "\n",
    "```python\n",
    "def is_chair(object):\n",
    "    \"\"\"\n",
    "    Returns True if something is a chair.\n",
    "    \"\"\"\n",
    "    if has_legs(object):\n",
    "        if nr_legs(object) == 4:\n",
    "            if has_flat_surface(object):\n",
    "                if is_stable(object):\n",
    "                    if has_backrest(object):\n",
    "                        if is_comforable_height(object):\n",
    "                            if material(object) == 'wood':\n",
    "                                ...\n",
    "def has_legs(object):\n",
    "    \"\"\"\n",
    "    Returns true if something has legs.\n",
    "    \"\"\"\n",
    "    for element in object.elements:\n",
    "        if is_leg(element):\n",
    "            return true\n",
    "\n",
    "def is_leg(object):\n",
    "    \"\"\"\n",
    "    Returns true if something is a leg.\n",
    "    \"\"\"\n",
    "    if is_attached_to(object, objects_that_have_legs):\n",
    "        ...\n",
    "```\n",
    "\n",
    "\n",
    "Instead of directly writing a function that recognizes a chair, we write an algorithm that *learns* from data to create a function that recognizes a chair."
   ],
   "id": "d760382b43cbdd46"
  },
  {
   "metadata": {},
   "cell_type": "markdown",
   "source": [
    "\n",
    "## Classifying Classifiers\n",
    "\n",
    "To not get lost in the broader landscape of machine learning, we can think about different approaches in terms of key aspects.  These include the type of *data* they process, the *solution space* that is considered, the *learning algorithm* employed, and the methods used to *evaluate* the resulting function."
   ],
   "id": "b9415fa7f0d8da58"
  },
  {
   "metadata": {},
   "cell_type": "markdown",
   "source": [
    "### Data\n",
    "\n",
    "The data used for classifiers is **labeled**, meaning we have examples of objects along with their corresponding category labels. For instance, a dataset might contain images of chairs and non-chairs, each labeled accordingly (e.g., *chair*, *horse*, *table*, *plant*).\n",
    "\n",
    "Mathematically, we can represent a dataset as a set of tuples:\n",
    "\n",
    "\n",
    "$$\n",
    "D = \\left\\{ (x^{(1)}, y^{(1)}), (x^{(2)}, y^{(2)}), \\dots, (x^{(n)}, y^{(n)}) \\right\\}\n",
    "$$\n",
    "\n",
    "where:\n",
    "- $D$  is the dataset containing $n$ labeled examples,\n",
    "- $x^{(i)}$ represents the **$i$-th input** (e.g., an image or feature vector),\n",
    "- $y^{(i)}$ represents the **$i$-th label** (e.g., \"chair\" or \"horse\").\n",
    "\n",
    "\n",
    "![chair-class](https://younesstrittmatter.github.io/teaching/_static/machine-learning/classifiers/data-word-label.png)\n",
    "\n",
    "\n",
    "\n",
    "\n"
   ],
   "id": "7b4cfb3827f72bd4"
  },
  {
   "metadata": {},
   "cell_type": "markdown",
   "source": [
    "#### Binary Classification\n",
    "\n",
    "Here, we will specifically introduce *binary* classifiers. That means we do not want to classify objects into *chairs*, *horses*, *tables*, and *plants*. Instead, we are only interested in whether something *is a chair* or *is not a chair*.\n",
    "\n",
    "We can express this by defining the label as either $-1$ or $1$:\n",
    "\n",
    "$$\n",
    "D = \\left\\{ (x^{(1)}, y^{(1)}), (x^{(2)}, y^{(2)}), \\dots, (x^{(n)}, y^{(n)}) \\right\\}\n",
    "$$\n",
    "\n",
    "where\n",
    "\n",
    "$$\n",
    "y^{(i)} \\in \\{-1, 1\\}, \\quad \\forall i \\in \\{1, \\dots, n\\}\n",
    "$$\n",
    "\n",
    "![chair-class](https://younesstrittmatter.github.io/teaching/_static/machine-learning/classifiers/data-label-binary.png)"
   ],
   "id": "73843c85b68387b8"
  },
  {
   "metadata": {},
   "cell_type": "markdown",
   "source": [
    "#### Caveat: Feature Representation\n",
    "\n",
    "In the above example, we do not actually classify *chairs* themselves. Instead, we classify *pictures of chairs*. In this case, we can use black-and-white images as their **feature representation**. For instance, $x^{(i)}$ could be a 2D vector of brightness values.  \n",
    "\n",
    "More generally, we need a function $\\varphi$ that transforms the \"real thing\" $x$ into a feature representation $x^{(i)}$:\n",
    " \n",
    "$$\n",
    "\\varphi : x \\rightarrow x^{(i)}\n",
    "$$\n",
    "\n",
    "The feature representation typically consists of list of numbers (vectors or tensors). To keep things short and concise, in this guide, we will primarily work with the feature representation instead of the \"real thing\" and will sometimes use $x$ when we actually mean $x^{(i)}$. However, it is important to note that using a *poorly chosen* $\\varphi$ can undermine even the most sophisticated learning algorithm."
   ],
   "id": "3bdade4424dd1122"
  },
  {
   "metadata": {},
   "cell_type": "markdown",
   "source": [
    "### Solution Space - Hypothesis Class\n",
    "\n",
    "Before finding a specific solution to a given problem, machine learning first requires defining a space of possible solutions. This space is often referred to as the *solution space*, *hypothesis class*, or *hypothesis space*. A single element of this space is called a *hypothesis*, and a *hypothesis* that (best) solves the problem is called a *solution*.  \n",
    "\n",
    "If you come from a different field, you can think of this as *architectural constraints* or *inductive biases*. More formally, the *hypothesis space* is defined as a parameterized function:\n",
    "\n",
    "$$\n",
    "h \\in \\mathcal{H}\n",
    "$$\n",
    "\n",
    "where a specific function $y$ is given by:\n",
    "\n",
    "$$\n",
    "y = h(x, \\theta)\n",
    "$$\n",
    "\n",
    "where $\\theta$ represents the parameters of the function.\n",
    "\n",
    "If you're having a hard time wrapping your head around this concept, consider the following analogy:\n",
    "\n",
    "Imagine you need to tighten a nut. A very broad hypothesis class would be **all tools in my shed.** However, this is too general, and searching through every possible tool would be inefficient. Instead, you can constrain the hypothesis class to **all wrenches.** Now, finding the right tool becomes much easier because you’ve eliminated irrelevant options.\n",
    "\n",
    "Additionally, narrowing down the hypothesis class makes it easier to parameterize your choice. Instead of searching through every tool type, you now only need to adjust *one parameter*—the size of the wrench.\n",
    "\n",
    "***Note:*** In this example, you could even use a form of gradient descent (we will formally introduce this later) to find the correct wrench size:\n",
    "\n",
    "- If the wrench is too big, try a smaller one.\n",
    "- If the wrench is too small, try a bigger one.\n",
    "\n",
    "- By iteratively refining your choice, you are guaranteed to find the correct solution—provided that the right wrench is available in your shed.\n",
    "\n",
    "![wrong-hypothesis](https://younesstrittmatter.github.io/teaching/_static/machine-learning/classifiers/hypothesis.png)"
   ],
   "id": "aed8496a02693b4f"
  }
 ],
 "metadata": {
  "kernelspec": {
   "display_name": "Python 3",
   "language": "python",
   "name": "python3"
  },
  "language_info": {
   "codemirror_mode": {
    "name": "ipython",
    "version": 2
   },
   "file_extension": ".py",
   "mimetype": "text/x-python",
   "name": "python",
   "nbconvert_exporter": "python",
   "pygments_lexer": "ipython2",
   "version": "2.7.6"
  }
 },
 "nbformat": 4,
 "nbformat_minor": 5
}
