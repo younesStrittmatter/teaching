{
 "cells": [
  {
   "metadata": {},
   "cell_type": "markdown",
   "source": [
    "# 1 Counting\n",
    "> How many possible outcomes are there?\n",
    "\n",
    "## Examples\n",
    "\n",
    "Given an experiment, counting is the process of determining how many possible outcomes there are."
   ],
   "id": "b85c31de6fe80739"
  },
  {
   "metadata": {},
   "cell_type": "markdown",
   "source": [
    "***Example: Dice***{exerc}\n",
    "\n",
    "How many possible outcomes are there when rolling a 6-sided die?\n",
    "\n"
   ],
   "id": "149037f92cc5383c"
  },
  {
   "metadata": {},
   "cell_type": "markdown",
   "source": [
    "Solution{solution}\n",
    "\n",
    "There are 6 possible outcomes: {1, 2, 3, 4, 5, 6}."
   ],
   "id": "88ee6ff20c592ce0"
  },
  {
   "metadata": {},
   "cell_type": "markdown",
   "source": [
    "***Example: Coins***{example}\n",
    "\n",
    "How many possible outcomes are there when flipping a coin?"
   ],
   "id": "5238186b5de5c311"
  },
  {
   "metadata": {},
   "cell_type": "markdown",
   "source": [
    "Solution{solution}\n",
    "\n",
    "There are 2 possible outcomes: {heads, tails}."
   ],
   "id": "cdd57b877b59c28"
  },
  {
   "metadata": {},
   "cell_type": "markdown",
   "source": [
    "***Example: Two Coins***{example}\n",
    "\n",
    "How many possible outcomes are there when flipping two coins?"
   ],
   "id": "ef5d8b8db20d4865"
  },
  {
   "metadata": {},
   "cell_type": "markdown",
   "source": [
    "Solution{solution}\n",
    "\n",
    "There are 4 possible outcomes: {heads, heads}, {heads, tails}, {tails, heads}, {tails, tails}."
   ],
   "id": "bda7bea4fbe95ec6"
  },
  {
   "metadata": {},
   "cell_type": "markdown",
   "source": [
    "Notation{notation}\n",
    "\n",
    "We will use the following notation for counting:\n",
    "\n",
    "Given the possible outcomes of an experiment are a set $A$, we will denote the number of possible outcomes as $|A|$, where $|A|$ is the cardinality of the set $A$.\n",
    "\n",
    "For example, if the experiment is rolling a die, then the possible outcomes are $A = \\{1, 2, 3, 4, 5, 6\\}$ and the number of possible outcomes is $|A| = 6$."
   ],
   "id": "45d6935308a61fd5"
  },
  {
   "metadata": {},
   "cell_type": "markdown",
   "source": [
    "Step Rule of Counting (aka Product Rule of Counting){rule}\n",
    "\n",
    "If an experiment $E$ consists of two independent steps with the outcomes $A$ and $B$, then the number of possible outcomes is the product of the number of possible outcomes of each step:\n",
    "\n",
    "$|E| = |A| \\times |B|$\n",
    "\n"
   ],
   "id": "c9a948770f96147c"
  },
  {
   "metadata": {},
   "cell_type": "markdown",
   "source": [
    "Example: Number of Different Images{example}\n",
    "\n",
    "![pixels](https://younesstrittmatter.github.io/teaching/_static/courses/probabilit/1/pixels.png)\n",
    "\n",
    "How many different images are possible with a 2x2 pixel image, where one pixel can have 17 million different colors?\n"
   ],
   "id": "84d275801e0758dd"
  },
  {
   "metadata": {},
   "cell_type": "markdown",
   "source": [
    "Solution{solution}\n",
    "\n",
    "The number of possible outcomes is the product of the number of possible outcomes for each pixel $|A|$:\n",
    "\n",
    "$|E| = |A| \\times |A| \\times |A| \\times |A| = 17,000,000^{4}$"
   ],
   "id": "4b399f20191d2cb6"
  },
  {
   "metadata": {},
   "cell_type": "markdown",
   "source": [
    "Example: How many colors are possible for each pixel?{example}\n",
    "\n",
    "In the above example, we assumed that each pixel can have 17 million different colors. Can you explain this number?"
   ],
   "id": "6429278fdef9acbb"
  },
  {
   "metadata": {},
   "cell_type": "markdown",
   "source": [
    "Hint{hint}\n",
    "\n",
    "Each pixel is made up of 3 color channels: red, green and blue. Each channel can have 256 different values (0-255)."
   ],
   "id": "828e46e206bf7848"
  },
  {
   "metadata": {},
   "cell_type": "markdown",
   "source": [
    "Solution{solution}\n",
    "\n",
    "The number of possible colors for each pixel is the product of the number of possible values for each channel:\n",
    "\n",
    "$|A| = 256 \\times 256 \\times 256 = 16,777,216$"
   ],
   "id": "6ea786efdac866e8"
  },
  {
   "metadata": {},
   "cell_type": "markdown",
   "source": [
    "Example: How many possible red-values can the red channel of a pixel have?{example}\n",
    "\n",
    "In the above example, we assumed that each channel can have 256 different values. Can you explain this number?"
   ],
   "id": "7750da508bab2bfc"
  },
  {
   "metadata": {},
   "cell_type": "markdown",
   "source": [
    "Hint{hint}\n",
    "\n",
    "Each channel is made up of 8 bits."
   ],
   "id": "3f2405dc992f3227"
  },
  {
   "metadata": {},
   "cell_type": "markdown",
   "source": [
    "Solution{solution}\n",
    "\n",
    "Each channel is made up of 8 bits. Each bit has two possible outcomes ${0, 1}$. The number of possible values for each channel is therefore $2^8 = 256$."
   ],
   "id": "21449122dad7613a"
  },
  {
   "metadata": {},
   "cell_type": "markdown",
   "source": [
    "Or Rule of Counting (aka Sum Rule of Counting){rule}\n",
    "\n",
    "If the outcome of an experiment $E$ can be either from set $A$ or set $B$, then the number of possible outcomes is the number $|A| \\cup |B|$.\n",
    "\n",
    "In the case that $A$ and $B$ are mutually exclusive (i.e. they have no outcomes in common), then the number of possible outcomes is the sum of the number of possible outcomes for each set $|A| + |B|$.\n",
    "\n",
    "In general, $|A \\cup B| = |A| + |B| - |A \\cap B|$.\n",
    "\n",
    "Mutually mutually means that $A \\cap B = \\emptyset$."
   ],
   "id": "187f0a8a59388a48"
  },
  {
   "metadata": {},
   "cell_type": "markdown",
   "source": [
    "Example{example}\n",
    "\n",
    "How many bit-strings of length 6 are there, that start with 01 or end with 10?"
   ],
   "id": "dc3ed6ef3d5bcdfd"
  },
  {
   "metadata": {},
   "cell_type": "markdown",
   "source": [
    "Solution{solution}\n",
    "\n",
    "Thera are three cases to consider:\n",
    "\n",
    "- The bit-string starts with 01.\n",
    "- The bit-string ends with 10.\n",
    "- The bit strings starts with 01 and ends with 10.\n",
    "\n",
    "- The number of bit-strings that start with 01 is $2^4 = 16$.\n",
    "- The number of bit-strings that end with 10 is $2^4 = 16$.\n",
    "- The number of bit-strings that start with 01 and end with 10 is $2^2 = 4$.\n",
    "\n",
    "The number of bit-strings that start with 01 or end with 10 is therefore $16 + 16 - 4 = 28$."
   ],
   "id": "b0950dc3cf96eb5f"
  },
  {
   "metadata": {},
   "cell_type": "code",
   "outputs": [],
   "execution_count": null,
   "source": "",
   "id": "cab87f3463463642"
  }
 ],
 "metadata": {
  "kernelspec": {
   "display_name": "Python 3",
   "language": "python",
   "name": "python3"
  },
  "language_info": {
   "codemirror_mode": {
    "name": "ipython",
    "version": 2
   },
   "file_extension": ".py",
   "mimetype": "text/x-python",
   "name": "python",
   "nbconvert_exporter": "python",
   "pygments_lexer": "ipython2",
   "version": "2.7.6"
  }
 },
 "nbformat": 4,
 "nbformat_minor": 5
}
