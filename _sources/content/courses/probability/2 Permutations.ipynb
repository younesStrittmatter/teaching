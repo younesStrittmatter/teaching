{
 "cells": [
  {
   "metadata": {},
   "cell_type": "markdown",
   "source": [
    "# 2 Permutations\n",
    "> How many ways can we arrange objects?\n",
    "\n",
    "A permutation is an arrangement of objects in a specific order. We often are interested in the number of ways we can arrange objects, in other words, the number of permutations for a given set of objects."
   ],
   "id": "fa8fc99e01481760"
  },
  {
   "metadata": {},
   "cell_type": "markdown",
   "source": [
    "Example{example}\n",
    "\n",
    "How many ways can we arrange the letters in the word \"cat\"?\n",
    "\n"
   ],
   "id": "aa0992f7f60168e5"
  },
  {
   "metadata": {},
   "cell_type": "markdown",
   "source": [
    "Solution{solution}\n",
    "\n",
    "Let's first list all possible arrangements that start with c:\n",
    "\n",
    "cat, cta\n",
    "\n",
    "Next, let's list all possible arrangements that start with a:\n",
    "\n",
    "act, atc\n",
    "\n",
    "Finally, let's list all possible arrangements that start with t:\n",
    "\n",
    "tac, tca\n",
    "\n",
    "Therefore, there are 6 possible arrangements of the letter \"cat\": {cat, cta, act, atc, tac, tca}."
   ],
   "id": "b74f785d23b5b6bc"
  },
  {
   "metadata": {},
   "cell_type": "markdown",
   "source": [
    "Example{example}\n",
    "\n",
    "How many ways can we arrange the letters in the word \"eel\"?"
   ],
   "id": "c987296197e44e08"
  },
  {
   "metadata": {},
   "cell_type": "markdown",
   "source": [
    "Solution{solution}\n",
    "\n",
    "Let's first list all possible arrangements that start with e:\n",
    "\n",
    "eel, ele\n",
    "\n",
    "Next, let's list all possible arrangements that start with l:\n",
    "\n",
    "lee\n",
    "\n",
    "Therefore, there are 3 possible arrangements of the letter \"eel\": {eel, ele, lee}."
   ],
   "id": "86203fc4f1852c64"
  },
  {
   "metadata": {},
   "cell_type": "markdown",
   "source": [
    "## Orderings of distinct objects\n",
    "\n"
   ],
   "id": "142661245ebb2c17"
  },
  {
   "metadata": {},
   "cell_type": "markdown",
   "source": [
    "Number of permutations of distinct objects{rule}\n",
    "\n",
    "The number of orderings (permutations) of $n$ ***distinct*** objects is given by the factorial of $n$, denoted as $n!$:\n",
    "\n",
    "$$\n",
    "n! = \\underbrace{n}_{\\text{Choices for} \\atop \\text{the first object}} *\n",
    "\\underbrace{(n-1)}_{\\text{Choices for the second object} \\atop \\text{given one has already been chosen}} *\n",
    "\\underbrace{(n-2)}_{\\text{Choices for the third object} \\atop \\text{given two have already been chosen}} * \\dots * \\underbrace{2}_{\\text{Choices for the} \\atop \\text{second to last object}}\n",
    "$$"
   ],
   "id": "6fd0df09bdc30e87"
  },
  {
   "metadata": {},
   "cell_type": "markdown",
   "source": [
    "Example{example}\n",
    "\n",
    "How many ways can you arrange any 3 distinct letters from the alphabet if each of the letters can only appear once?"
   ],
   "id": "b264b1523c8c8b6"
  },
  {
   "metadata": {},
   "cell_type": "markdown",
   "source": [
    "Solution{solution}\n",
    "\n",
    "There are 26 choices for the first letter, 25 choices for the second letter, and 24 choices for the third letter. Therefore, the number of ways to arrange 3 distinct letters from the alphabet is:\n",
    "\n",
    "$\\frac{26!}{(26-3)!} = 26*25*24 = 15,600$."
   ],
   "id": "426cf7714e856886"
  },
  {
   "metadata": {},
   "cell_type": "markdown",
   "source": [
    "## Orderings of non-distinct objects\n",
    "\n",
    "Now, consider some of the objects are ***non-distinct***. For example, consider the set the ways to order 1, 1, 0, 0, 0:\n",
    "\n",
    "First, just \"force\" the 1's and 0's to be distinct:\n",
    "\n",
    "How many ways can we arrange\n",
    "\n",
    "$1_a, 1_b, 0_w, 0_x, 0_y$?\n",
    "\n",
    "There are $5!$ ways to arrange these objects. Now, let's consider how much we have overcounted:\n",
    "\n",
    "Let's consider for a given sequence, how many ways we can arrange the distinct objects to get the same indistinct sequence:\n",
    "\n",
    "$1_a, 1_b, 0_w, 0_x, 0_y$\n",
    "\n",
    "We can rearrange the 1's:\n",
    "\n",
    "$1_b, 1_a, 0_w, 0_x, 0_y$\n",
    "\n",
    "or the 0's:\n",
    "\n",
    "$1_a, 1_b, 0_w, 0_y, 0_y$\n",
    "\n",
    "$1_a, 1_b, 0_x, 0_w, 0_y$\n",
    "\n",
    "$1_a, 1_b, 0_x, 0_y, 0_w$\n",
    "\n",
    "$1_a, 1_b, 0_y, 0_w, 0_x$\n",
    "\n",
    "$1_a, 1_b, 0_y, 0_x, 0_w$\n",
    "\n",
    "So there are\n",
    "\n",
    "$$\n",
    "\\underbrace{2!}_{\\text{ways to arrange the 1's}} * \\underbrace{3!}_{\\text{ways to arrange the 0's}} = 12\n",
    "$$\n",
    "\n",
    "That means, we can just divide out the number of ways we overcounted to get the number of ways to arrange the indistinct objects:\n",
    "\n",
    "The number of ways to arrange two 1's and three 0's is therefore:\n",
    "\n",
    "$$\n",
    "\\frac{5!}{2!3!} = 10\n",
    "$$\n",
    "\n"
   ],
   "id": "337ab8d5c7a6605"
  },
  {
   "metadata": {},
   "cell_type": "markdown",
   "source": [
    "Number of permutations of partially non-distinct objects{rule}\n",
    "\n",
    "The number of ways to arrange $n$ objects where $n_1$ are of (indistinguishable) type 1, $n_2$ are of type 2, ...,  and $n_k$ are of type $k$ is (where $n = \\sum_{i=1}^{k} n_i$):\n",
    "\n",
    "$$\n",
    "\\frac{n!}{n_1!n_2!...n_k!}\n",
    "$$"
   ],
   "id": "f321dba0b8694753"
  },
  {
   "metadata": {},
   "cell_type": "markdown",
   "source": [
    "Example{example}\n",
    "\n",
    "How many ways can you arrange the letters in the word \"MISSISSIPPI\"?"
   ],
   "id": "1e3c741e22935aa5"
  },
  {
   "metadata": {},
   "cell_type": "markdown",
   "source": [
    "Solution{solution}\n",
    "\n",
    "There are 4 distinct letters in the word MISSISSIPPI: M, I, S, P. The number of ways to arrange the letters in the word MISSISSIPPI is:\n",
    "\n",
    "M appears once, so $n_1 = 1$\n",
    "I appears four times, so $n_2 = 4$\n",
    "S appears four times, so $n_3 = 4$\n",
    "P appears twice, so $n_4 = 2$\n",
    "\n",
    "Therefore, the number of ways to arrange the letters in the word MISSISSIPPI is:\n",
    "\n",
    "$$\n",
    "\\frac{11!}{1!4!4!2!} = 34,650\n",
    "$$"
   ],
   "id": "2c3f3e3d82540f69"
  }
 ],
 "metadata": {
  "kernelspec": {
   "display_name": "Python 3",
   "language": "python",
   "name": "python3"
  },
  "language_info": {
   "codemirror_mode": {
    "name": "ipython",
    "version": 2
   },
   "file_extension": ".py",
   "mimetype": "text/x-python",
   "name": "python",
   "nbconvert_exporter": "python",
   "pygments_lexer": "ipython2",
   "version": "2.7.6"
  }
 },
 "nbformat": 4,
 "nbformat_minor": 5
}
